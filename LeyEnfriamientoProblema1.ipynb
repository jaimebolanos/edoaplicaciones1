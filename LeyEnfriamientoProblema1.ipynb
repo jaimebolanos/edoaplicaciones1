{
 "cells": [
  {
   "cell_type": "markdown",
   "metadata": {},
   "source": [
    "\n",
    "# APLICACIONES DE LA ECUACIONES \n",
    "# DIFERENCIALES  con PYTHON\n",
    "## Primer Orden\n",
    "## UNIVERSIDAD LIBRE\n",
    "### Jaime Bolaños Gallo"
   ]
  },
  {
   "cell_type": "markdown",
   "metadata": {},
   "source": [
    "<p style=\"text-align: center;\"> <span style=\"color:red\">LEY DEL ENFRIAMIENTO DE NEWTON</span></p>\n",
    "\n",
    "<p style=\"text-align: justify;\"> <span style=\"color:green\">Problema 1</span></p>\n",
    " \n",
    "SOLUCIÓN DEL MODELO. Halle la solución de la ecuación diferencial para un modelo de enfriamiento/calentamiento,asumiendo una temperatura ambiente es$Tm=100  {}^0 F$ :\n",
    "\n",
    "\n",
    "$$\\frac{dT}{dt}=-k(T-T_m)~~~~~(1)$$      \n",
    "\n",
    "\n",
    "Aqui k es una constante positiva, $T$ es la temperatura del cuerpo la cuál está cambiando con el tiempo: $T=T(t)$ y \n",
    "$T_m$ es la temperatura del medio, \n",
    "la cuál se considera esencialmente constante.\n",
    "\n",
    "<p style=\"text-align: justify;\"> <span style=\"color:blue\">Solución:</span></p>\n",
    "\n",
    "\n",
    "El modelo representado por la ecuación (1) puede reescrbirse como:\n",
    "\n",
    "$$\\frac{dT}{(T-T_m)}=-kdt~~~~~(2)$$ \n",
    "Seguidamente integramos a ambos lados de (2)\n",
    "$$\\int \\frac{dT}{(T-T_m)}=-k\\int dt~~~~~(3)$$ \n",
    "\n",
    "$$ln (T-T_m)=e^{-kt}+c_1~~~~~(4)$$  \n",
    "\n",
    "La ecuación (4) representa la solución del modelo, sinembargo se puede aplicar la función exponencial a ambbos lados de expresión para obtener:\n",
    "\n",
    "$$T=T(t)=C \\cdot e^{-kt}+T_m~~~~~(5)$$ \n",
    "\n",
    "Con $Tm=100  {}^0 F$ la ecuación (5) se trasforma en:\n",
    "\n",
    "$$T=T(t)=C \\cdot e^{-kt}+100~~~~~(6)$$ \n",
    "\n",
    "\n",
    "En esta última ecuación es la solución del modelo de Newton se ha hecho la equivalencia $C=e^{c_1}$\n",
    "\n"
   ]
  },
  {
   "cell_type": "markdown",
   "metadata": {},
   "source": [
    "<p style=\"text-align: justify;\"> <span style=\"color:blue\">Solución con PYTHON:</span></p> \n",
    "\n",
    "Resolveremos la ecuación:\n",
    "\n",
    "$$\\frac{dT}{dt}=-k(T-100)$$  "
   ]
  },
  {
   "cell_type": "code",
   "execution_count": 16,
   "metadata": {},
   "outputs": [
    {
     "data": {
      "image/png": "[encoded data removed]",
      "text/latex": [
       "$$\\frac{d}{d t} T{\\left (t \\right )} = - k \\left(T{\\left (t \\right )} - 100\\right)$$"
      ],
      "text/plain": [
       "d                         \n",
       "──(T(t)) = -k⋅(T(t) - 100)\n",
       "dt                        "
      ]
     },
     "execution_count": 16,
     "metadata": {},
     "output_type": "execute_result"
    }
   ],
   "source": [
    "# Enseguida ilustraremos como es el procedimiento utilizando PYTHON 3.6\n",
    "# Importamos los paquetes y las librerás necesarias para generar la ecuación diferencial\n",
    "from sympy import * #importamos el paquete de cálculo symbólico\n",
    "from sympy import symbols #importamos la librería se símbolos\n",
    "from sympy import Function # librería para definir funciones\n",
    "t,f,k=symbols('t f k') # definimos la variable t\n",
    "T=Function('T') # Definimos la funnción T\n",
    "from sympy import init_printing #librería para empezar a imprimir latex\n",
    "init_printing() #inicio de la impresión en latex\n",
    "f = -k*(T(t)-100) #definimos la funciuon f correspondiente a la parte derecha de la E.D.\n",
    "Eq(T(t).diff(t), f) # escribimmos la E.D. mediante la instrucción Eq()"
   ]
  },
  {
   "cell_type": "code",
   "execution_count": 17,
   "metadata": {},
   "outputs": [
    {
     "data": {
      "image/png": "[encoded data removed]",
      "text/latex": [
       "$$T{\\left (t \\right )} = C_{1} e^{- k t} + 100$$"
      ],
      "text/plain": [
       "           -k⋅t      \n",
       "T(t) = C₁⋅ℯ     + 100"
      ]
     },
     "execution_count": 17,
     "metadata": {},
     "output_type": "execute_result"
    }
   ],
   "source": [
    "# Enseguida la resolveremos:\n",
    "d=dsolve(T(t).diff(t) - f)# comando para resolverla y guardarla en la variable d\n",
    "d # se muuestra la solución"
   ]
  },
  {
   "cell_type": "markdown",
   "metadata": {},
   "source": [
    "<script>\n",
    "  $(document).ready(function(){\n",
    "    $('div.prompt').hide();\n",
    "    $('div.back-to-top').hide();\n",
    "    $('nav#menubar').hide();\n",
    "    $('.breadcrumb').hide();\n",
    "    $('.hidden-print').hide();\n",
    "  });\n",
    "</script>\n",
    "\n",
    "<footer id=\"attribution\" style=\"float:right; color:#999; background:#fff;\">\n",
    "UNIVERSIDAD LIBRE // Núcleo Común//\n",
    "\n",
    "Jaime Bolaños Gallo. Aplicaciones de las Ecuaciones Diferenciales Ordinarias.\n",
    "\n",
    "\n",
    "</footer>"
   ]
  },
  {
   "cell_type": "code",
   "execution_count": null,
   "metadata": {
    "collapsed": true
   },
   "outputs": [],
   "source": []
  }
 ],
 "metadata": {
  "kernelspec": {
   "display_name": "Python 3",
   "language": "python",
   "name": "python3"
  },
  "language_info": {
   "codemirror_mode": {
    "name": "ipython",
    "version": 3
   },
   "file_extension": ".py",
   "mimetype": "text/x-python",
   "name": "python",
   "nbconvert_exporter": "python",
   "pygments_lexer": "ipython3",
   "version": "3.5.2"
  }
 },
 "nbformat": 4,
 "nbformat_minor": 2
}
