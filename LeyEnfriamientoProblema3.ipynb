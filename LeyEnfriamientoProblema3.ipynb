{
 "cells": [
  {
   "cell_type": "markdown",
   "metadata": {},
   "source": [
    "\n",
    "# APLICACIONES DE LA ECUACIONES \n",
    "# DIFERENCIALES  con PYTHON\n",
    "## Primer Orden\n",
    "## UNIVERSIDAD LIBRE\n",
    "### _Jaime Bolaños Gallo_"
   ]
  },
  {
   "cell_type": "markdown",
   "metadata": {},
   "source": [
    "<p style=\"text-align: center;\"> <span style=\"color:red\">LEY DEL ENFRIAMIENTO DE NEWTON</span></p>\n",
    "\n",
    "<p style=\"text-align: justify;\"> <span style=\"color:green\">Problema 3</span></p>\n",
    " \n",
    "El modelo para el calentamiento de un cuerpo está dado por la ecuación diferencial:\n",
    "\n",
    "\n",
    "$$\\frac{dT}{dt}=-k(T-100)$$ cuya solución para determinadas condiciones es\n",
    "\n",
    "$$T=-50 \\cdot e^{-0.044629 \\cdot t}+100$$\n",
    "\n",
    "En donde T es la temperatura en ${}^o F$ y $t$ es el tiempo en minutos.\n",
    "\n",
    "Determine:\n",
    "\n",
    "a) La temperatura alcanzada por el cuerpo al cabo de 20 minutos\n",
    "\n",
    "b) El tiempo necesario para que el cuerpo adquiera una temperatura de 85 ${}^o F$\n",
    "\n",
    "\n",
    "<p style=\"text-align: justify;\"> <span style=\"color:blue\">Solución:</span></p>\n",
    "\n",
    "a) La Temperatura lograda al cabo de 20 minutos es:\n",
    "\n",
    "$$T=-50 \\cdot e^{-0.044629\\cdot 20}+100=79.52 {}^0 F$$\n",
    " \n",
    "b) Ahora para $T=85$ el tiempo  $t$ se puede despejar de la expresión:\n",
    "\n",
    "\n",
    "\n",
    "$$85=-50 \\cdot e^{-0.044629\\cdot t}+100 $$\n",
    "\n",
    "$$\\frac{85-100}{-50}=t= e ^{-0.0044629 \\cdot t}$$\n",
    "\n",
    "$$-\\frac{1}{0.044629} \\cdot ln \\left ( \\frac{3}{10} \\right )=t=26.98 ~~~minutos$$\n",
    "\n",
    "\n",
    "\n"
   ]
  },
  {
   "cell_type": "markdown",
   "metadata": {},
   "source": [
    "<p style=\"text-align: justify;\"> <span style=\"color:blue\">Solución con PYTHON:</span></p> \n"
   ]
  },
  {
   "cell_type": "code",
   "execution_count": 3,
   "metadata": {},
   "outputs": [
    {
     "data": {
      "image/png": "[encoded data removed]",
      "text/latex": [
       "$$100 - 50 e^{- 0.044629 t}$$"
      ],
      "text/plain": [
       "          -0.044629⋅t\n",
       "100 - 50⋅ℯ           "
      ]
     },
     "execution_count": 3,
     "metadata": {},
     "output_type": "execute_result"
    }
   ],
   "source": [
    "from sympy import * \n",
    "import sympy\n",
    "from sympy import symbols \n",
    "from sympy import Function \n",
    "t,f=symbols('t f') \n",
    "T=Function('T')\n",
    "from sympy import init_printing \n",
    "init_printing() \n",
    "# Definimos la ecuación solución:\n",
    "f=-50*exp(-0.044629*t)+100\n",
    "f"
   ]
  },
  {
   "cell_type": "code",
   "execution_count": 4,
   "metadata": {},
   "outputs": [
    {
     "data": {
      "image/png": "[encoded data removed]",
      "text/latex": [
       "$$T{\\left (20 \\right )} = 79.52$$"
      ],
      "text/plain": [
       "T(20) = 79.52"
      ]
     },
     "execution_count": 4,
     "metadata": {},
     "output_type": "execute_result"
    }
   ],
   "source": [
    "# a) reemplazamos t po 20\n",
    "f=f.subs(t,20)\n",
    "f=round(f,2)\n",
    "R=Eq(T(20),f)\n",
    "R"
   ]
  },
  {
   "cell_type": "code",
   "execution_count": 5,
   "metadata": {},
   "outputs": [
    {
     "data": {
      "image/png": "[encoded data removed]",
      "text/latex": [
       "$$85 = 100 - 50 \\cdot 2.71828182845905^{- 0.044629 t}$$"
      ],
      "text/plain": [
       "                              -0.044629⋅t\n",
       "85 = 100 - 50⋅2.71828182845905           "
      ]
     },
     "execution_count": 5,
     "metadata": {},
     "output_type": "execute_result"
    }
   ],
   "source": [
    "\n",
    "# b) Reemplazamos T por 85\n",
    "from math import *\n",
    "f=-50*e**(-0.044629*t)+100 # volvemos a definir f\n",
    "R=Eq(85,f)\n",
    "R"
   ]
  },
  {
   "cell_type": "code",
   "execution_count": 6,
   "metadata": {},
   "outputs": [
    {
     "data": {
      "image/png": "[encoded data removed]",
      "text/latex": [
       "$$t = 26.98$$"
      ],
      "text/plain": [
       "t = 26.98"
      ]
     },
     "execution_count": 6,
     "metadata": {},
     "output_type": "execute_result"
    }
   ],
   "source": [
    "#De esta ecuación despejamos \n",
    "i=solve(R, t) \n",
    "i=round(i[0],2)\n",
    "Eq(t,i)"
   ]
  },
  {
   "cell_type": "markdown",
   "metadata": {
    "collapsed": true
   },
   "source": [
    "<script>\n",
    "  $(document).ready(function(){\n",
    "    $('div.prompt').hide();\n",
    "    $('div.back-to-top').hide();\n",
    "    $('nav#menubar').hide();\n",
    "    $('.breadcrumb').hide();\n",
    "    $('.hidden-print').hide();\n",
    "  });\n",
    "</script>\n",
    "\n",
    "<footer id=\"attribution\" style=\"float:right; color:#999; background:#fff;\">\n",
    "UNIVERSIDAD LIBRE // Núcleo Común//\n",
    "\n",
    "Jaime Bolaños Gallo. Aplicaciones de las Ecuaciones Diferenciales Ordinarias.\n",
    "\n",
    "\n",
    "</footer>"
   ]
  },
  {
   "cell_type": "code",
   "execution_count": null,
   "metadata": {
    "collapsed": true
   },
   "outputs": [],
   "source": []
  }
 ],
 "metadata": {
  "kernelspec": {
   "display_name": "Python 3",
   "language": "python",
   "name": "python3"
  },
  "language_info": {
   "codemirror_mode": {
    "name": "ipython",
    "version": 3
   },
   "file_extension": ".py",
   "mimetype": "text/x-python",
   "name": "python",
   "nbconvert_exporter": "python",
   "pygments_lexer": "ipython3",
   "version": "3.5.2"
  }
 },
 "nbformat": 4,
 "nbformat_minor": 2
}
