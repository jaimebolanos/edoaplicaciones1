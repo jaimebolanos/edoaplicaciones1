{
 "cells": [
  {
   "cell_type": "markdown",
   "metadata": {},
   "source": [
    "\n",
    "# APLICACIONES DE LA ECUACIONES \n",
    "# DIFERENCIALES  con PYTHON\n",
    "## Primer Orden\n",
    "## UNIVERSIDAD LIBRE\n",
    "### _Jaime Bolaños Gallo_"
   ]
  },
  {
   "cell_type": "markdown",
   "metadata": {},
   "source": [
    "LEY DEL ENFRIAMIENTO DE NEWTON\n",
    "\n",
    "Esta ley gobierna tanto los procesos de enfriamiento como los de calentamiento. Establece que la velocidad con la  cuál cambia la temperatura respecto al tiempo es directamente proporcional a la difrencia de temperatura del cuerpo y el medio circundante, esto es:\n",
    "\n",
    "$$\\frac{dT}{dt}=-k(T-T_m)~~~~~(1)$$      \n",
    "\n",
    "Esta ecuación es el modelo para los fen+omenos de enfrimiento/calentamiento.\n",
    "\n",
    "Aqui k es una constante positiva, $T$ es la temperatura del cuerpo la cuál está cambiando con el tiempo: $T=T(t)$ y \n",
    "$T_m$ es la temperatura del medio, \n",
    "la cuál se considera esencialmente constante.\n",
    "\n",
    "El modelo representado por la ecuación (1) puede reescrbirse como:\n",
    "\n",
    "$$\\frac{dT}{(T-T_m)}=-kdt~~~~~(2)$$ \n",
    "Seguidamente integramos a ambos lados de (2)\n",
    "$$\\int \\frac{dT}{(T-T_m)}=-k\\int dt~~~~~(3)$$ \n",
    "\n",
    "$$ln (T-T_m)=e^{-kt}+c_1~~~~~(4)$$  \n",
    "\n",
    "La ecuación (4) representa la solución del modelo, sinembargo se puede aplicar la función exponencial a ambbos lados de expresión para obtener:\n",
    "\n",
    "$$T=C \\cdot e^{-kt}+T_m~~~~~(5)$$ \n",
    "\n",
    "En esta última ecuación se ha hecho la eqquivalencia $C=e^{c_1}$\n",
    "\n",
    "### Ejercicio 1\n",
    "\n",
    "Un cuerpo que tiene una temperatura inicial de $50~ {}^0 F$ se coloca en un horno que se encuentra a una temperatura de $100~ {}^0 F$. Cuando ya han pasado 5 minutos la temperatura asciende a $60~ {}^0 F$. \n",
    "\n",
    "a)  Qué ţemperatura tendrá el cuerpo al cabo de 20 minutos.\n",
    "\n",
    "b) Cuánto tiempo el cuerpo en tener una temperatura de $85~ {}^0 F$\n",
    "\n",
    "c) Elabore una tabla de valores para la temperatura en diferentes tiempos\n",
    "\n",
    "c) Construir la gráfica T vs t\n",
    "\n",
    "### Desarrollo\n",
    "\n",
    "a) A partir de la primera condición inicial $T_0=T(t=0)=50 {}^0 F$    y    $Tm=100  {}^0 F$ podemos reescribir  la (5) como:\n",
    "\n",
    "$$50=C \\cdot e^{-kt}+100~~~~~(6)$$\n",
    "\n",
    "De esta expresión obtenemos $C= -50$. Por tanto:\n",
    "\n",
    "$$T=-50 \\cdot e^{-kt}+100~~~~~(7)$$\n",
    "\n",
    "La constante $k$ puede ser evaluada con la otra condición del problema. $T(t=5)=60$ qquedando la ecuación 7 de la suguiente maqnera:\n",
    "\n",
    "\n",
    "$$60=-50 \\cdot e^{-k \\cdot 5}+100~~~~~(8)$$\n",
    "\n",
    "De la ecuación (8) despejamos el valor de la constante $K=-\\frac{1}{5} ln \\frac{4}{5}=0.044629$ y finalmente la ecaución para el calentamiento del problema planteado es:\n",
    "\n",
    "$$T=-50 \\cdot e^{-0.044629t}+100~~~~~(9)$$\n",
    "\n",
    "\n",
    "La Temperatura lograda al cabo de 20 minutos es:\n",
    "\n",
    "$$T=-50 \\cdot e^{-0.044629\\cdot 20}+100=79.52 {}^0 F$$\n",
    "\n"
   ]
  },
  {
   "cell_type": "markdown",
   "metadata": {},
   "source": []
  },
  {
   "cell_type": "code",
   "execution_count": 78,
   "metadata": {},
   "outputs": [
    {
     "data": {
      "image/png": "[encoded data removed]",
      "text/latex": [
       "$$\\frac{d}{d t} T{\\left (t \\right )} = - k \\left(T{\\left (t \\right )} - 100\\right)$$"
      ],
      "text/plain": [
       "d                         \n",
       "──(T(t)) = -k⋅(T(t) - 100)\n",
       "dt                        "
      ]
     },
     "execution_count": 78,
     "metadata": {},
     "output_type": "execute_result"
    }
   ],
   "source": [
    "# from __future__ import division\n",
    "# Enseguida ilustraremos como es el procedimiento utilizando PYTHON 3.6\n",
    "# Importamos los paquetes y las librerás necesarias para generar la ecuación diferencial\n",
    "import sympy\n",
    "from sympy import *\n",
    "from sympy import Function, symbols\n",
    "# T = sympy.Function('T') # creamos la función T\n",
    "# sin el sympy.Function\n",
    "T = Function('T')\n",
    "t,f,k,h, C_1,i = symbols('t f k h C_1 i') # creamos las variables t,k,f,h,C_1\n",
    "f = -k*(T(t)-100)\n",
    "from sympy import init_printing # arcivo para salidas en LATEX\n",
    "init_printing() # inicio de la impresión en LATEX\n",
    "#  sympy.Eq(T(t).diff(t), f)\n",
    "Eq(T(t).diff(t), f)"
   ]
  },
  {
   "cell_type": "code",
   "execution_count": 79,
   "metadata": {
    "collapsed": true
   },
   "outputs": [],
   "source": [
    "# Con el código anterior se generó la ecuación diferencial que modela la situación\n",
    "# Enseguida la resolveremos:\n",
    "d=dsolve(T(t).diff(t) - f)"
   ]
  },
  {
   "cell_type": "code",
   "execution_count": 80,
   "metadata": {},
   "outputs": [
    {
     "data": {
      "image/png": "[encoded data removed]",
      "text/latex": [
       "$$C_{1} = -50$$"
      ],
      "text/plain": [
       "C₁ = -50"
      ]
     },
     "execution_count": 80,
     "metadata": {},
     "output_type": "execute_result"
    }
   ],
   "source": [
    "# Esta ecuación obtenida es la misma ecuación (5) Ahora evaluaremos el valores de la constante C1\n",
    "#sustituyendo luego t=0 y T=50 \n",
    "r=d.subs([(t,0),(T(0),50)])\n",
    "# Obtenemos la ecuación de la cuál es necesario despejar $C_1$\n",
    "# Y de esta última ecuación despejamos la variable C1\n",
    "## sympy.solve(r,C_1) Esta es otra forma de resolver la ecuación\n",
    "i=solve(r)\n",
    "Eq(C_1,i[0])"
   ]
  },
  {
   "cell_type": "code",
   "execution_count": 81,
   "metadata": {},
   "outputs": [
    {
     "data": {
      "image/png": "[encoded data removed]",
      "text/latex": [
       "$$50 = C_{1} + 100$$"
      ],
      "text/plain": [
       "50 = C₁ + 100"
      ]
     },
     "execution_count": 81,
     "metadata": {},
     "output_type": "execute_result"
    }
   ],
   "source": [
    "r"
   ]
  },
  {
   "cell_type": "code",
   "execution_count": 82,
   "metadata": {},
   "outputs": [
    {
     "data": {
      "image/png": "[encoded data removed]",
      "text/latex": [
       "$$\\left [ -50\\right ]$$"
      ],
      "text/plain": [
       "[-50]"
      ]
     },
     "execution_count": 82,
     "metadata": {},
     "output_type": "execute_result"
    }
   ],
   "source": [
    "i"
   ]
  },
  {
   "cell_type": "code",
   "execution_count": 83,
   "metadata": {},
   "outputs": [
    {
     "data": {
      "image/png": "[encoded data removed]",
      "text/latex": [
       "$$T{\\left (t \\right )} = C_{1} e^{- k t} + 100$$"
      ],
      "text/plain": [
       "           -k⋅t      \n",
       "T(t) = C₁⋅ℯ     + 100"
      ]
     },
     "execution_count": 83,
     "metadata": {},
     "output_type": "execute_result"
    }
   ],
   "source": [
    "#sustituimos ahora en la ecuación el valor de la variable C_1\n",
    "C_1=i[0]\n",
    "# d=dsolve(T(t).diff(t) - f)\n",
    "d"
   ]
  },
  {
   "cell_type": "code",
   "execution_count": 84,
   "metadata": {},
   "outputs": [
    {
     "data": {
      "image/png": "[encoded data removed]",
      "text/latex": [
       "$$T{\\left (t \\right )} = 100 - 50 e^{- k t}$$"
      ],
      "text/plain": [
       "                 -k⋅t\n",
       "T(t) = 100 - 50⋅ℯ    "
      ]
     },
     "execution_count": 84,
     "metadata": {},
     "output_type": "execute_result"
    }
   ],
   "source": [
    "d=Eq(T(t),C_1*sympy.exp(-k*t)+100)\n",
    "d"
   ]
  },
  {
   "cell_type": "code",
   "execution_count": 85,
   "metadata": {},
   "outputs": [
    {
     "data": {
      "image/png": "[encoded data removed]",
      "text/latex": [
       "$$T{\\left (t \\right )} = 100 - 50 \\cdot 2.71828182845905^{- k t}$$"
      ],
      "text/plain": [
       "                                -k⋅t\n",
       "T(t) = 100 - 50⋅2.71828182845905    "
      ]
     },
     "execution_count": 85,
     "metadata": {},
     "output_type": "execute_result"
    }
   ],
   "source": [
    "from math import * # paquete necesario para escribor el número e\n",
    "d=Eq(T(t),C_1*e**(-k*t)+100)\n",
    "d\n"
   ]
  },
  {
   "cell_type": "code",
   "execution_count": 86,
   "metadata": {},
   "outputs": [
    {
     "data": {
      "image/png": "[encoded data removed]",
      "text/latex": [
       "$$60 = 100 - 50 \\cdot 2.71828182845905^{- 5 k}$$"
      ],
      "text/plain": [
       "                              -5⋅k\n",
       "60 = 100 - 50⋅2.71828182845905    "
      ]
     },
     "execution_count": 86,
     "metadata": {},
     "output_type": "execute_result"
    }
   ],
   "source": [
    "# Enseguida hallamos el valor de la constante k sustituyendo t=5 y T=60\n",
    "r=d.subs([(t,5),(T(5),60),(C_1,i[0])])\n",
    "r"
   ]
  },
  {
   "cell_type": "code",
   "execution_count": 87,
   "metadata": {
    "collapsed": true
   },
   "outputs": [],
   "source": [
    "# A partir de esta ecuación despejamos el valor de la constante k\n",
    "i=solve(r, k)\n",
    "i=round(i[0],4)"
   ]
  },
  {
   "cell_type": "code",
   "execution_count": 89,
   "metadata": {},
   "outputs": [
    {
     "data": {
      "image/png": "[encoded data removed]",
      "text/latex": [
       "$$T{\\left (t \\right )} = 100 - 50 \\cdot 2.71828182845905^{- 0.0446 t}$$"
      ],
      "text/plain": [
       "                                -0.0446⋅t\n",
       "T(t) = 100 - 50⋅2.71828182845905         "
      ]
     },
     "execution_count": 89,
     "metadata": {},
     "output_type": "execute_result"
    }
   ],
   "source": [
    "#Por lo tanto nuestra la solución de la ecuación diferencial queda:\n",
    "d=Eq(T(t),C_1*e**(-i*t)+100)\n",
    "d "
   ]
  },
  {
   "cell_type": "code",
   "execution_count": 90,
   "metadata": {},
   "outputs": [
    {
     "data": {
      "image/png": "[encoded data removed]",
      "text/latex": [
       "$$T{\\left (t \\right )} = 100 - 50 e^{- 0.0446 t}$$"
      ],
      "text/plain": [
       "                 -0.0446⋅t\n",
       "T(t) = 100 - 50⋅ℯ         "
      ]
     },
     "execution_count": 90,
     "metadata": {},
     "output_type": "execute_result"
    }
   ],
   "source": [
    "# O en términos de \"e\"\n",
    "d=Eq(T(t),C_1*sympy.exp(-i*t)+100)\n",
    "d"
   ]
  },
  {
   "cell_type": "code",
   "execution_count": null,
   "metadata": {
    "collapsed": true
   },
   "outputs": [],
   "source": [
    "# La cuál es la misma ecuación (9)"
   ]
  }
 ],
 "metadata": {
  "kernelspec": {
   "display_name": "Python 3",
   "language": "python",
   "name": "python3"
  },
  "language_info": {
   "codemirror_mode": {
    "name": "ipython",
    "version": 3
   },
   "file_extension": ".py",
   "mimetype": "text/x-python",
   "name": "python",
   "nbconvert_exporter": "python",
   "pygments_lexer": "ipython3",
   "version": "3.6.1"
  }
 },
 "nbformat": 4,
 "nbformat_minor": 2
}
