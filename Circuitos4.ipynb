{
 "cells": [
  {
   "cell_type": "markdown",
   "metadata": {},
   "source": [
    "\n",
    "# APLICACIONES DE LA ECUACIONES \n",
    "# DIFERENCIALES  con PYTHON\n",
    "## Primer Orden\n",
    "## UNIVERSIDAD LIBRE\n",
    "### _Jaime Bolaños Gallo_"
   ]
  },
  {
   "cell_type": "markdown",
   "metadata": {},
   "source": [
    "<p style=\"text-align: center;\"> <span style=\"color:red\">CIRCUITOS ELÉCTRICOS</span></p>\n",
    "\n",
    "<p style=\"text-align: justify;\"> <span style=\"color:green\">Problema 4</span></p>\n",
    " \n",
    "La expresión que modela la carga para un circuito $RC$ es:\n",
    "\n",
    "$$q=\\left ( \\frac{5}{26}sen(t)-\\frac{25}{26 }cos(t)\\right )+\\frac{285}{26}~e^{0.2t}$$\n",
    "\n",
    "\n",
    "halle el valor de la corriente en cualquier tiempo $t$, es decir, la función $i(t)$ \n",
    "\n",
    "<p style=\"text-align: justify;\"> <span style=\"color:blue\">Solución:</span></p>\n",
    "\n",
    "Ya que $i(t)=\\frac{dq}{dt}$ debemos derivar la función dada."
   ]
  },
  {
   "cell_type": "code",
   "execution_count": 19,
   "metadata": {},
   "outputs": [
    {
     "data": {
      "image/png": "[encoded data removed]",
      "text/latex": [
       "$$i{\\left (t \\right )} = \\frac{57 e^{\\frac{t}{5}}}{26} + \\frac{25}{26} \\sin{\\left (t \\right )} + \\frac{5}{26} \\cos{\\left (t \\right )}$$"
      ],
      "text/plain": [
       "           t                       \n",
       "           ─                       \n",
       "           5                       \n",
       "       57⋅ℯ    25⋅sin(t)   5⋅cos(t)\n",
       "i(t) = ───── + ───────── + ────────\n",
       "         26        26         26   "
      ]
     },
     "execution_count": 19,
     "metadata": {},
     "output_type": "execute_result"
    }
   ],
   "source": [
    "from sympy import *\n",
    "from sympy import symbols \n",
    "from sympy import Function \n",
    "t=symbols('t') \n",
    "q=Function('q')\n",
    "i=Function('i')\n",
    "from sympy import init_printing \n",
    "init_printing()\n",
    "#Creamos una expresión simbólica para la espresión dada\n",
    "str_expr = \"5/26*sin(t)-25/26*cos(t)+285/26*exp(1/5*t)\" # De esta manera no aparecen decimales en la ecuación creada\n",
    "expr = sympify(str_expr) # Estudiar este efecto logrado\n",
    "#Ahora derivamos con el comando diff de sympy\n",
    "r=diff(expr,t)\n",
    "Eq(i(t),r)\n",
    "\n"
   ]
  },
  {
   "cell_type": "markdown",
   "metadata": {},
   "source": [
    "<script>\n",
    "  $(document).ready(function(){\n",
    "    $('div.prompt').hide();\n",
    "    $('div.back-to-top').hide();\n",
    "    $('nav#menubar').hide();\n",
    "    $('.breadcrumb').hide();\n",
    "    $('.hidden-print').hide();\n",
    "  });\n",
    "</script>\n",
    "\n",
    "<footer id=\"attribution\" style=\"float:right; color:#999; background:#fff;\">\n",
    "UNIVERSIDAD LIBRE // Núcleo Común//\n",
    "\n",
    "Jaime Bolaños Gallo. Aplicaciones de las Ecuaciones Diferenciales Ordinarias.\n",
    "\n",
    "\n",
    "</footer>"
   ]
  },
  {
   "cell_type": "code",
   "execution_count": null,
   "metadata": {
    "collapsed": true
   },
   "outputs": [],
   "source": []
  }
 ],
 "metadata": {
  "kernelspec": {
   "display_name": "Python 3",
   "language": "python",
   "name": "python3"
  },
  "language_info": {
   "codemirror_mode": {
    "name": "ipython",
    "version": 3
   },
   "file_extension": ".py",
   "mimetype": "text/x-python",
   "name": "python",
   "nbconvert_exporter": "python",
   "pygments_lexer": "ipython3",
   "version": "3.5.2"
  }
 },
 "nbformat": 4,
 "nbformat_minor": 2
}
