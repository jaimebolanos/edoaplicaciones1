{
 "cells": [
  {
   "cell_type": "markdown",
   "metadata": {},
   "source": [
    "<p style=\"text-align: center;\"> <span style=\"color:red\">SIMULACIÓN DE UN TANQUE DE DILUCIÓN</span></p>\n",
    "\n",
    "<p style=\"text-align: justify;\"> <span style=\"color:green\">Problema 1. Situación:\n",
    " \n",
    " Un tanque con capacidad de  $v_T$ litros contiene inicialmente  $m_0 ~~g$ de sal en un volumen de $v_0$ litros de solución. La solución se mantiene bien mezclada y comienza a entrar una corriente con una concentración de $c_1 ~~ g$ a una  velocidad de $\\dot{v}_1~~ \\frac{lt}{min}$ y la mezcla sale del tanque a  $\\dot{v}_2 ~~ \\frac{lt}{min}$. Utilice las dos aplicaciones que se muestran a continuación para comparar resultados de un tanque de dilución con diferentes parámetros."
   ]
  },
  {
   "cell_type": "markdown",
   "metadata": {},
   "source": [
    "# Con un widget de Descartes"
   ]
  },
  {
   "cell_type": "code",
   "execution_count": 6,
   "metadata": {},
   "outputs": [
    {
     "data": {
      "text/html": [
       "<iframe src=applets/simula.html width=900 height=600></iframe>"
      ],
      "text/plain": [
       "<IPython.core.display.HTML object>"
      ]
     },
     "execution_count": 6,
     "metadata": {},
     "output_type": "execute_result"
    }
   ],
   "source": [
    "from IPython.display import HTML\n",
    "HTML('<iframe src=applets/simula.html width=900 height=600></iframe>')\n"
   ]
  },
  {
   "cell_type": "code",
   "execution_count": null,
   "metadata": {
    "collapsed": true
   },
   "outputs": [],
   "source": []
  }
 ],
 "metadata": {
  "kernelspec": {
   "display_name": "Python 3",
   "language": "python",
   "name": "python3"
  },
  "language_info": {
   "codemirror_mode": {
    "name": "ipython",
    "version": 3
   },
   "file_extension": ".py",
   "mimetype": "text/x-python",
   "name": "python",
   "nbconvert_exporter": "python",
   "pygments_lexer": "ipython3",
   "version": "3.6.1"
  }
 },
 "nbformat": 4,
 "nbformat_minor": 2
}
