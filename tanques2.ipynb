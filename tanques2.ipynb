{
 "cells": [
  {
   "cell_type": "markdown",
   "metadata": {},
   "source": [
    "\n",
    "# APLICACIONES DE LA ECUACIONES \n",
    "# DIFERENCIALES  con PYTHON\n",
    "## Primer Orden\n",
    "## UNIVERSIDAD LIBRE\n",
    "### Jaime Bolaños Gallo"
   ]
  },
  {
   "cell_type": "markdown",
   "metadata": {},
   "source": [
    "<p style=\"text-align: center;\"> <span style=\"color:red\">TANQUES DE DILUCIÓN</span></p>\n",
    "\n",
    "<p style=\"text-align: justify;\"> <span style=\"color:green\">Problema 2. Caso: $\\dot{v}_1>\\dot{v}_2$</span></p>\n",
    " \n",
    " Un tanque con capacidad de  $50$ litros ($v_T$) contiene inicialmente 500 $g$ de sal en un volumen de 25 litros de solución  (${v_0}$). La solución se mantiene bien mezclada y comienza a entrar una corriente con una concentración de $c_1=5 ~~ g$ a una  velocidad de $\\dot{v}_1=7 ~~ \\frac{lt}{min}$ y la mezcla sale del tanque a  $\\dot{v}_2=9~~ \\frac{lt}{min}$. Ver la siguiente figura."
   ]
  },
  {
   "cell_type": "markdown",
   "metadata": {},
   "source": [
    "![hhhhh](images\\Tanque.png)\n",
    "<h4>Además se tiene que la concentración c es $c=\\frac{m}{v}=\\frac{\\dot{m}}{\\dot{v}}$    </h4>\n",
    "\n"
   ]
  },
  {
   "cell_type": "markdown",
   "metadata": {},
   "source": [
    " a) Establezca la la ecuación m vs t\n",
    " \n",
    " b) Halle la masa dentro del tanque en un tiempo de 11.3 minutos\n",
    " "
   ]
  },
  {
   "cell_type": "markdown",
   "metadata": {},
   "source": [
    "<p style=\"text-align: justify;\"> <span style=\"color:blue\">Solución:</span></p>"
   ]
  },
  {
   "cell_type": "markdown",
   "metadata": {},
   "source": [
    "a) La ecuación de balance material es: $$\\frac{dm}{dt}=[Entrada]-[Salida]$$\n",
    "\n",
    "$$\\frac{dm}{dt}=\\dot{m_1}-\\dot{m_2}$$\n",
    "$$\\frac{dm}{dt}=c_1 v_1-c_2 v_2=35-c(t) v_2$$\n",
    "\n",
    "Aquí vale lapena aclarar que $c_2=c(t)$ ya que el tanque está uniformemmente agotado y ,como $c(t)=\\frac{m(t)}{25-2t}$\n",
    "\n",
    "entonces nuestra ecuación diferencial se transforma en :\n",
    "\n",
    "$$\\frac{dm}{dt}=c_1 \\dot{v_1}-c_2 \\dot{v_2}=35-\\frac{m(t)}{25-2t} \\dot{v_2}$$\n",
    "\n",
    "\n",
    "$$\\frac{dm}{dt}=35-\\frac{7}{25-2t} m(t)$$\n",
    "\n",
    "Esta última ecuación es una ecuación diferencial LINEAL.\n",
    "\n",
    "$$\\frac{dm}{dt}+\\frac{9}{25-2t} m=35$$\n",
    "\n",
    "Para evaluar el factor integrante primero calculamos la integral $$\\int \\frac{9}{25-2t} dt=ln(25-2t)^{-\\frac{9}{2}}$$\n",
    "\n",
    "Por lo tanto el factor integrante será:\n",
    "\n",
    "$FI=e~^{\\int ~-\\frac{9}{25-2t} dt}= e~^{ln(25-2t)^{-\\frac{9}{2}}}=(25-2t)^{-\\frac{9}{2}}$\n"
   ]
  },
  {
   "cell_type": "markdown",
   "metadata": {
    "collapsed": true
   },
   "source": [
    "\n",
    "Multiplicando la ecuación diferencial por el factor integrante se tiene:\n",
    "$$\\frac{d}{dt}\\left ( m (25-2t \\right )^{-9/2})=35 (25-2t)^{-9/2}$$\n",
    "\n",
    "\n",
    "$$ m ~(25-2t ^{-9/2})=35 \\int (25-2t)^{-9/2}dt$$\n",
    "\n",
    "Haciendo la integral obtenemos la siguiente expresión:\n",
    "\n",
    "$$ m~(25-2t  )^{-9/2}=5 (25-2t)^{-7/2}+k$$\n",
    "\n",
    "De esta última expresión despejamos la masa $m$\n",
    "\n",
    "$$ m=5 (25-2t)+{k}{(25-2t  )^{9/2}}$$\n",
    "\n",
    "\n",
    "Ahora bien, con la condición inicial $m(t=0)=500~$ es posible evaluar la contante k:\n",
    "\n",
    "$$500=5 \\cdot 25+{k} \\cdot {25^{9/2}}$$\n",
    "\n",
    "De donde se puede despejar la variable k:\n",
    "\n",
    "$$k=(500-125)\\cdot 25^{-9/2}=\\frac{3}{15625}=0.000192$$\n",
    "\n",
    "La solución de la ecuación diferencial nos queda entonces:\n",
    "\n",
    "$$ m=5 (25-2t)+\\frac{3}{15625}{(25-2t  )^{9/2}}$$\n",
    "\n",
    "b)EN el tiempo t=11.3 tendremos:\n",
    "\n",
    "$$ m=5 (25-2\\cdot 11.3)+0.000192 \\cdot {(25-2 \\cdot 11.3  )^{7/2}}=12.01 ~~g$$\n"
   ]
  },
  {
   "cell_type": "markdown",
   "metadata": {},
   "source": [
    "\n",
    "<script>\n",
    "  $(document).ready(function(){\n",
    "    $('div.prompt').hide();\n",
    "    $('div.back-to-top').hide();\n",
    "    $('nav#menubar').hide();\n",
    "    $('.breadcrumb').hide();\n",
    "    $('.hidden-print').hide();\n",
    "  });\n",
    "</script>\n",
    "\n",
    "<footer id=\"attribution\" style=\"float:right; color:#999; background:#fff;\">\n",
    "UNIVERSIDAD LIBRE // Núcleo Común//\n",
    "\n",
    "Jaime Bolaños Gallo. Aplicaciones de las Ecuaciones Diferenciales Ordinarias.\n",
    "\n",
    "\n",
    "</footer>"
   ]
  },
  {
   "cell_type": "code",
   "execution_count": null,
   "metadata": {
    "collapsed": true
   },
   "outputs": [],
   "source": []
  }
 ],
 "metadata": {
  "kernelspec": {
   "display_name": "Python 3",
   "language": "python",
   "name": "python3"
  },
  "language_info": {
   "codemirror_mode": {
    "name": "ipython",
    "version": 3
   },
   "file_extension": ".py",
   "mimetype": "text/x-python",
   "name": "python",
   "nbconvert_exporter": "python",
   "pygments_lexer": "ipython3",
   "version": "3.5.2"
  }
 },
 "nbformat": 4,
 "nbformat_minor": 2
}
