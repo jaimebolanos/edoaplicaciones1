{
 "cells": [
  {
   "cell_type": "markdown",
   "metadata": {},
   "source": [
    "\n",
    "# APLICACIONES DE LA ECUACIONES \n",
    "# DIFERENCIALES  con PYTHON\n",
    "## Primer Orden\n",
    "## UNIVERSIDAD LIBRE\n",
    "### _Jaime Bolaños Gallo_"
   ]
  },
  {
   "cell_type": "markdown",
   "metadata": {},
   "source": [
    "<p style=\"text-align: center;\"> <span style=\"color:red\">LEY DEL ENFRIAMIENTO DE NEWTON</span></p>\n",
    "\n",
    "<p style=\"text-align: justify;\"> <span style=\"color:green\">Problema 5</span></p>\n",
    " \n",
    "Considere un proceso de enfriamiento en el cuál la temperatura ambiente es de  $100 {}^o F$ y la temperatura inicial de \n",
    "$50 {}^o F$, es decir la ecuación del modelo es:\n",
    "\n",
    "$$T=-50 \\cdot e^{-0.044629 \\cdot t}+100$$\n",
    "\n",
    "En donde T es la temperatura en ${}^o F$ y $t$ es el tiempo en minutos.\n",
    "\n",
    "Utilice la siguiente escena interactiva para realizar las siguientes actividades:\n",
    "\n",
    "\n",
    "a)  Coloque los valores de Tm y T inicial en $100 {}^o F$ y $50 {}^o F$ y luego ubique el punto mostrado en la curva en t=0. Describa qué observa en las cooordenadas\n",
    "\n",
    "b) Halle el la temperatura, con la escena interactiva, para un un tiempo de 20 minutos y compárelo con la respuesta obtenida analíticamente.\n",
    "\n",
    "\n",
    "c) Determine, con la escena interactiva, el tiempo necesario la lograr una temperatura de  $85 {}^o F$ y \n",
    "\n",
    "compare el resultado con la respuesta analítica"
   ]
  },
  {
   "cell_type": "markdown",
   "metadata": {},
   "source": [
    "<p style=\"text-align: justify;\"> <span style=\"color:blue\">Solución con PYTHON:</span></p> \n"
   ]
  },
  {
   "cell_type": "markdown",
   "metadata": {
    "collapsed": true
   },
   "source": []
  },
  {
   "cell_type": "code",
   "execution_count": 1,
   "metadata": {},
   "outputs": [
    {
     "data": {
      "text/html": [
       "<iframe src=https://www.geogebra.org/m/XfwKHVb5 width=900 height=500></iframe>"
      ],
      "text/plain": [
       "<IPython.core.display.HTML object>"
      ]
     },
     "execution_count": 1,
     "metadata": {},
     "output_type": "execute_result"
    }
   ],
   "source": [
    "\n",
    "import IPython\n",
    "url = 'https://www.geogebra.org/m/XfwKHVb5'\n",
    "iframe = '<iframe src=' + url + ' width=900 height=500></iframe>'\n",
    "IPython.display.HTML(iframe)"
   ]
  },
  {
   "cell_type": "markdown",
   "metadata": {},
   "source": [
    "<script>\n",
    "  $(document).ready(function(){\n",
    "    $('div.prompt').hide();\n",
    "    $('div.back-to-top').hide();\n",
    "    $('nav#menubar').hide();\n",
    "    $('.breadcrumb').hide();\n",
    "    $('.hidden-print').hide();\n",
    "  });\n",
    "</script>\n",
    "\n",
    "<footer id=\"attribution\" style=\"float:right; color:#999; background:#fff;\">\n",
    "UNIVERSIDAD LIBRE // Núcleo Común//\n",
    "\n",
    "Jaime Bolaños Gallo. Aplicaciones de las Ecuaciones Diferenciales Ordinarias.\n",
    "\n",
    "\n",
    "</footer>"
   ]
  }
 ],
 "metadata": {
  "kernelspec": {
   "display_name": "Python 3",
   "language": "python",
   "name": "python3"
  },
  "language_info": {
   "codemirror_mode": {
    "name": "ipython",
    "version": 3
   },
   "file_extension": ".py",
   "mimetype": "text/x-python",
   "name": "python",
   "nbconvert_exporter": "python",
   "pygments_lexer": "ipython3",
   "version": "3.5.2"
  }
 },
 "nbformat": 4,
 "nbformat_minor": 2
}
