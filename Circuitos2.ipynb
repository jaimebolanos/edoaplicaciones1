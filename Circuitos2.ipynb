{
 "cells": [
  {
   "cell_type": "markdown",
   "metadata": {},
   "source": [
    "\n",
    "# APLICACIONES DE LA ECUACIONES \n",
    "# DIFERENCIALES  con PYTHON\n",
    "## Primer Orden\n",
    "## UNIVERSIDAD LIBRE\n",
    "### _Jaime Bolaños Gallo_"
   ]
  },
  {
   "cell_type": "markdown",
   "metadata": {},
   "source": [
    "<p style=\"text-align: center;\"> <span style=\"color:red\">CIRCUITOS ELÉCTRICOS</span></p>\n",
    "\n",
    "<p style=\"text-align: justify;\"> <span style=\"color:green\">Problema 2</span></p>\n",
    " \n",
    "Un circuito $RC$ tiene una resistencia de 100 ohmios, una capacitancia de 0.05 faradios y una fuente alimentadora de $5 sen(t)$ voltios. Clacule la carga en el circuito en cualquier momento t.\n",
    "\n",
    "<p style=\"text-align: justify;\"> <span style=\"color:blue\">Solución:</span></p>\n",
    "\n",
    "Partimos  de la expresión:\n",
    "\n",
    "\n",
    "$$ \\frac{dq}{dt}+\\frac{1}{R~C}~q = \\frac{V_{fuente}}{R}$$\n",
    "\n",
    "Reemplazando los valores dados se tiene:\n",
    "\n",
    "$$ \\frac{dq}{dt}+\\frac{1}{5}~q = \\frac{1}{10} sen(t)$$\n",
    "\n",
    "\n",
    "A continuación resolveremos esta ecuación diferencial LINEAL ayudándonos de el paquete SYMPY de PYTHON. Para lograr esto \n",
    "\n",
    "importaremos  algunas librerías de sympy."
   ]
  },
  {
   "cell_type": "code",
   "execution_count": 5,
   "metadata": {},
   "outputs": [
    {
     "data": {
      "image/png": "[encoded data removed]",
      "text/latex": [
       "$$e^{0.2 t}$$"
      ],
      "text/plain": [
       " 0.2⋅t\n",
       "ℯ     "
      ]
     },
     "execution_count": 5,
     "metadata": {},
     "output_type": "execute_result"
    }
   ],
   "source": [
    "from sympy import *\n",
    "from sympy import symbols \n",
    "t=symbols('t ') \n",
    "from sympy import init_printing \n",
    "init_printing()\n",
    "#Calculamos el factor integrante\n",
    "I=exp(1/5*t)\n",
    "I"
   ]
  },
  {
   "cell_type": "markdown",
   "metadata": {},
   "source": [
    "Multiplicacmos ahora la ecuación diferencial por I y reordenamos\n",
    "$$\\frac{d}{dt}~(e^{0.2~t}q)=\\frac{1}{10}~e^{0.2t}sen(t)$$\n",
    "\n",
    "Integrando ahora ésta última expresión:\n",
    "\n",
    "$$(e^{0.2~t}q)=\\frac{1}{10} \\int{ e^{0.2t}sen(t) dt}$$\n",
    "Resolvemos con PYTHON la integral de la derecha\n"
   ]
  },
  {
   "cell_type": "code",
   "execution_count": 11,
   "metadata": {},
   "outputs": [
    {
     "data": {
      "image/png": "[encoded data removed]",
      "text/latex": [
       "$$0.0192307692307692 e^{0.2 t} \\sin{\\left (t \\right )} - 0.0961538461538462 e^{0.2 t} \\cos{\\left (t \\right )}$$"
      ],
      "text/plain": [
       "                    0.2⋅t                              0.2⋅t       \n",
       "0.0192307692307692⋅ℯ     ⋅sin(t) - 0.0961538461538462⋅ℯ     ⋅cos(t)"
      ]
     },
     "execution_count": 11,
     "metadata": {},
     "output_type": "execute_result"
    }
   ],
   "source": [
    "r=(1/10)*exp(1/5*t)*sin(t)\n",
    "integrate(r,t)"
   ]
  },
  {
   "cell_type": "markdown",
   "metadata": {},
   "source": [
    "Finalmente despejando la variable q se tiene:\n",
    "$$q=(\\frac{5}{26}sen(t)-\\frac{25}{26})+C~e^{0.2t}$$"
   ]
  },
  {
   "cell_type": "markdown",
   "metadata": {
    "collapsed": true
   },
   "source": [
    "<script>\n",
    "  $(document).ready(function(){\n",
    "    $('div.prompt').hide();\n",
    "    $('div.back-to-top').hide();\n",
    "    $('nav#menubar').hide();\n",
    "    $('.breadcrumb').hide();\n",
    "    $('.hidden-print').hide();\n",
    "  });\n",
    "</script>\n",
    "\n",
    "<footer id=\"attribution\" style=\"float:right; color:#999; background:#fff;\">\n",
    "UNIVERSIDAD LIBRE // Núcleo Común//\n",
    "\n",
    "Jaime Bolaños Gallo. Aplicaciones de las Ecuaciones Diferenciales Ordinarias.\n",
    "\n",
    "\n",
    "</footer>"
   ]
  },
  {
   "cell_type": "code",
   "execution_count": null,
   "metadata": {
    "collapsed": true
   },
   "outputs": [],
   "source": []
  }
 ],
 "metadata": {
  "kernelspec": {
   "display_name": "Python 3",
   "language": "python",
   "name": "python3"
  },
  "language_info": {
   "codemirror_mode": {
    "name": "ipython",
    "version": 3
   },
   "file_extension": ".py",
   "mimetype": "text/x-python",
   "name": "python",
   "nbconvert_exporter": "python",
   "pygments_lexer": "ipython3",
   "version": "3.5.2"
  }
 },
 "nbformat": 4,
 "nbformat_minor": 2
}
