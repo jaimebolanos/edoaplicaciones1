{
 "cells": [
  {
   "cell_type": "markdown",
   "metadata": {},
   "source": [
    "\n",
    "# APLICACIONES DE LA ECUACIONES \n",
    "# DIFERENCIALES  con PYTHON\n",
    "## Primer Orden\n",
    "## UNIVERSIDAD LIBRE\n",
    "### Jaime Bolaños Gallo"
   ]
  },
  {
   "cell_type": "markdown",
   "metadata": {},
   "source": [
    "<p style=\"text-align: center;\"> <span style=\"color:red\">TANQUES DE DILUCIÓN</span></p>\n",
    "\n",
    "<p style=\"text-align: justify;\"> <span style=\"color:green\">Problema 5. </span></p> \n",
    " \n",
    " Un tanque con capacidad de  $50$ litros ($v_T$) contiene inicialmente 500 $g$ de sal en un volumen de 25 litros de solución  (${v_0}$). La solución se mantiene bien mezclada y comienza a entrar una corriente con una concentración de $c_1=5 ~~ g$ a una  velocidad de $\\dot{v}_1 ~~ \\frac{lt}{min}$ y la mezcla sale del tanque a  $\\dot{v}_2 ~~ \\frac{lt}{min}$. Ver la siguiente figura.\n",
    " \n",
    " Construya la gráfica de m(t) vs t cuando $\\dot{v}_1 =7~~ \\frac{lt}{min}$ , $~~$ $\\dot{v}_1=9 ~~ \\frac{lt}{min}$ $~~$ y la solución para este caso es:\n",
    " \n",
    " \n",
    " $$ m(t)=5 (25-2t)+\\frac{3}{15625}{(25-2t  )^{9/2}}$$"
   ]
  },
  {
   "cell_type": "markdown",
   "metadata": {},
   "source": [
    "![hhhhh](images\\Tanque.png)\n",
    "<h4>Además se tiene que la concentración c es $c=\\frac{m}{v}=\\frac{\\dot{m}}{\\dot{v}}$    </h4>\n",
    "\n"
   ]
  },
  {
   "cell_type": "markdown",
   "metadata": {},
   "source": [
    "<p style=\"text-align: justify;\"> <span style=\"color:blue\">Solución:</span></p>"
   ]
  },
  {
   "cell_type": "markdown",
   "metadata": {},
   "source": [
    " A partir de la solución elaboramos la siguiente tabla\n",
    " \n",
    "![hhhhh](images\\m2vst.png)\n",
    "\n",
    "Como también se puede apreciar en la tabla, la masa siempre disminuye.\n"
   ]
  },
  {
   "cell_type": "code",
   "execution_count": 1,
   "metadata": {},
   "outputs": [
    {
     "data": {
      "image/png": "[encoded data removed]",
      "text/plain": [
       "<matplotlib.figure.Figure at 0x7f30e028feb8>"
      ]
     },
     "metadata": {},
     "output_type": "display_data"
    }
   ],
   "source": [
    "listav2=[500,372.7,276.1,204.1,151.1,112.6,84.77,64.32,48.78,36.22,25.27,15.03,5]\n",
    "import matplotlib \n",
    "import matplotlib.pyplot as plt\n",
    "plt.plot(listav2, marker='x', linestyle=':', color='g', label = \"Velocidad Verdadera\") \n",
    "plt.xlabel('tiempo en segundos'), plt.ylabel('masa en gramos')\n",
    "plt.grid(True) \n",
    "plt.show()"
   ]
  },
  {
   "cell_type": "markdown",
   "metadata": {},
   "source": [
    "\n",
    "<script>\n",
    "  $(document).ready(function(){\n",
    "    $('div.prompt').hide();\n",
    "    $('div.back-to-top').hide();\n",
    "    $('nav#menubar').hide();\n",
    "    $('.breadcrumb').hide();\n",
    "    $('.hidden-print').hide();\n",
    "  });\n",
    "</script>\n",
    "\n",
    "<footer id=\"attribution\" style=\"float:right; color:#999; background:#fff;\">\n",
    "UNIVERSIDAD LIBRE // Núcleo Común//\n",
    "\n",
    "Jaime Bolaños Gallo. Aplicaciones de las Ecuaciones Diferenciales Ordinarias.\n",
    "\n",
    "\n",
    "</footer>"
   ]
  },
  {
   "cell_type": "code",
   "execution_count": null,
   "metadata": {
    "collapsed": true
   },
   "outputs": [],
   "source": []
  }
 ],
 "metadata": {
  "kernelspec": {
   "display_name": "Python 3",
   "language": "python",
   "name": "python3"
  },
  "language_info": {
   "codemirror_mode": {
    "name": "ipython",
    "version": 3
   },
   "file_extension": ".py",
   "mimetype": "text/x-python",
   "name": "python",
   "nbconvert_exporter": "python",
   "pygments_lexer": "ipython3",
   "version": "3.5.2"
  }
 },
 "nbformat": 4,
 "nbformat_minor": 2
}
