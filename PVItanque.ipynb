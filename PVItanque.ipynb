{
 "cells": [
  {
   "cell_type": "code",
   "execution_count": 7,
   "metadata": {
    "collapsed": true
   },
   "outputs": [],
   "source": [
    "from sympy import init_printing \n",
    "init_printing()\n",
    "import sympy\n",
    "from sympy import *\n",
    "from sympy import symbols\n",
    "v2,v1,v0,A0,c1,vt,x,t,d,e,C1,k,fi,i = symbols('v2 v1 v0 A0 c1 vt x t d e C1 k fi i')\n",
    "A = Function('A')\n",
    "v1=7 # l/min\n",
    "v2=9 # l/min\n",
    "v0=25 #l/min\n",
    "vt=50 #l\n",
    "A0=500 #g\n",
    "c1=5 #g/l\n",
    "\n",
    "# expreso la ecuacion\n",
    "\n",
    "f = c1*v1-v2*A(t)/(25+(v1-v2)*t)\n",
    "\n",
    "Eq(A(t).diff(t), f)\n",
    "v0=25"
   ]
  },
  {
   "cell_type": "code",
   "execution_count": 35,
   "metadata": {},
   "outputs": [
    {
     "data": {
      "image/png": "[encoded data removed]",
      "text/latex": [
       "$$877$$"
      ],
      "text/plain": [
       "877"
      ]
     },
     "execution_count": 35,
     "metadata": {},
     "output_type": "execute_result"
    }
   ],
   "source": [
    "x=877\n",
    "x\n",
    "if x < 0:\n",
    "    \n",
    "    x=x*80\n",
    "x    "
   ]
  },
  {
   "cell_type": "code",
   "execution_count": null,
   "metadata": {
    "collapsed": true
   },
   "outputs": [],
   "source": []
  },
  {
   "cell_type": "code",
   "execution_count": null,
   "metadata": {
    "collapsed": true
   },
   "outputs": [],
   "source": []
  }
 ],
 "metadata": {
  "kernelspec": {
   "display_name": "Python 3",
   "language": "python",
   "name": "python3"
  },
  "language_info": {
   "codemirror_mode": {
    "name": "ipython",
    "version": 3
   },
   "file_extension": ".py",
   "mimetype": "text/x-python",
   "name": "python",
   "nbconvert_exporter": "python",
   "pygments_lexer": "ipython3",
   "version": "3.6.1"
  }
 },
 "nbformat": 4,
 "nbformat_minor": 2
}
