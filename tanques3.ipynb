{
 "cells": [
  {
   "cell_type": "markdown",
   "metadata": {},
   "source": [
    "\n",
    "# APLICACIONES DE LA ECUACIONES \n",
    "# DIFERENCIALES  con PYTHON\n",
    "## Primer Orden\n",
    "## UNIVERSIDAD LIBRE\n",
    "### Jaime Bolaños Gallo"
   ]
  },
  {
   "cell_type": "markdown",
   "metadata": {},
   "source": [
    "<p style=\"text-align: center;\"> <span style=\"color:red\">TANQUES DE DILUCIÓN</span></p>\n",
    "\n",
    "<p style=\"text-align: justify;\"> <span style=\"color:green\">Problema 3. \n",
    " \n",
    " Un tanque con capacidad de  $50$ litros ($v_T$) contiene inicialmente 500 $g$ de sal en un volumen de 25 litros de solución  (${v_0}$). La solución se mantiene bien mezclada y comienza a entrar una corriente con una concentración de $c_1=5 ~~ g$ a una  velocidad de $\\dot{v}_1 ~~\\frac{lt}{min}$ y la mezcla sale del tanque a  $\\dot{v}_2~~ \\frac{lt}{min}$. Ver la siguiente figura."
   ]
  },
  {
   "cell_type": "markdown",
   "metadata": {},
   "source": [
    "![hhhhh](images\\Tanque.png)\n",
    "<h4>Además se tiene que la concentración c es $c=\\frac{m}{v}=\\frac{\\dot{m}}{\\dot{v}}$    </h4>\n",
    "\n"
   ]
  },
  {
   "cell_type": "markdown",
   "metadata": {},
   "source": [
    " a) Cuánto tiempo tardará la mezcla en llegar al nivel máximo del tanque si $\\dot{v}_1 = 9\\frac{lt}{min}$ y $\\dot{v}_1= 7 ~~\\frac{lt}{min}$ \n",
    " \n",
    " b) Cuánto tiempo tardará en quedar vacio si $\\dot{v}_1 =7~~\\frac{lt}{min}$ y $\\dot{v}_1 ~~=9\\frac{lt}{min}$ \n",
    " "
   ]
  },
  {
   "cell_type": "markdown",
   "metadata": {},
   "source": [
    "<p style=\"text-align: justify;\"> <span style=\"color:blue\">Solución:</span></p>"
   ]
  },
  {
   "cell_type": "markdown",
   "metadata": {},
   "source": [
    "a) El volumen de mezcla irá aumentando $(2 ~t)$ litros cada minuto hasta alcanzar la capacidad del tanque (50 litros), por tanto:$$25+2 \\cdot t=50$$\n",
    "\n",
    "De aqui que:$$t=\\frac{50-25}{2}=12.5 ~~~minutos$$\n",
    "\n",
    "b) El volumen de mezcla irá disminuyendo $(2 ~t)$ litros cada minuto hasta que se desocupe el tanque\n",
    "\n",
    "por tanto:$$25-2 \\cdot t=0$$\n",
    "De aqui que:$$t=\\frac{25}{2}=12.5 ~~~minutos$$\n"
   ]
  },
  {
   "cell_type": "markdown",
   "metadata": {},
   "source": [
    "\n",
    "<script>\n",
    "  $(document).ready(function(){\n",
    "    $('div.prompt').hide();\n",
    "    $('div.back-to-top').hide();\n",
    "    $('nav#menubar').hide();\n",
    "    $('.breadcrumb').hide();\n",
    "    $('.hidden-print').hide();\n",
    "  });\n",
    "</script>\n",
    "\n",
    "<footer id=\"attribution\" style=\"float:right; color:#999; background:#fff;\">\n",
    "UNIVERSIDAD LIBRE // Núcleo Común//\n",
    "\n",
    "Jaime Bolaños Gallo. Aplicaciones de las Ecuaciones Diferenciales Ordinarias.\n",
    "\n",
    "\n",
    "</footer>"
   ]
  },
  {
   "cell_type": "code",
   "execution_count": null,
   "metadata": {
    "collapsed": true
   },
   "outputs": [],
   "source": []
  }
 ],
 "metadata": {
  "kernelspec": {
   "display_name": "Python 3",
   "language": "python",
   "name": "python3"
  },
  "language_info": {
   "codemirror_mode": {
    "name": "ipython",
    "version": 3
   },
   "file_extension": ".py",
   "mimetype": "text/x-python",
   "name": "python",
   "nbconvert_exporter": "python",
   "pygments_lexer": "ipython3",
   "version": "3.5.2"
  }
 },
 "nbformat": 4,
 "nbformat_minor": 2
}
