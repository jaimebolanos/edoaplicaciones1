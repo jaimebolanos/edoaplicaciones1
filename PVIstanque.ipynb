{
 "cells": [
  {
   "cell_type": "code",
   "execution_count": 1,
   "metadata": {},
   "outputs": [
    {
     "ename": "SyntaxError",
     "evalue": "invalid syntax (<ipython-input-1-c8f73e34e052>, line 1)",
     "output_type": "error",
     "traceback": [
      "\u001b[0;36m  File \u001b[0;32m\"<ipython-input-1-c8f73e34e052>\"\u001b[0;36m, line \u001b[0;32m1\u001b[0m\n\u001b[0;31m    Ecuacion diferencial del tanque\u001b[0m\n\u001b[0m                       ^\u001b[0m\n\u001b[0;31mSyntaxError\u001b[0m\u001b[0;31m:\u001b[0m invalid syntax\n"
     ]
    }
   ],
   "source": [
    "Ecuacion diferencial del tanque"
   ]
  },
  {
   "cell_type": "code",
   "execution_count": 2,
   "metadata": {},
   "outputs": [
    {
     "data": {
      "image/png": "[encoded data removed]",
      "text/latex": [
       "$$\\frac{d}{d t} \\operatorname{A }{\\left (t \\right )} = 40 - \\frac{8}{v_{0}} \\operatorname{A }{\\left (t \\right )}$$"
      ],
      "text/plain": [
       "d                8⋅A (t)\n",
       "──(A (t)) = 40 - ───────\n",
       "dt                  v₀  "
      ]
     },
     "execution_count": 2,
     "metadata": {},
     "output_type": "execute_result"
    }
   ],
   "source": [
    "from sympy import init_printing \n",
    "init_printing()\n",
    "import sympy\n",
    "from sympy import *\n",
    "from sympy import symbols\n",
    "v2,v1,v0,A0,c1,vt,x,t,d,e,C1,k,fi,i,p = symbols('v2 v1 v0 A0 c1 vt x t d e C1 k fi i p')\n",
    "A= Function('A ')\n",
    "p= Function('p ')\n",
    "v1=8 # l/min\n",
    "v2=8 # l/min\n",
    "#v0=25 #l/min\n",
    "vt=50 #l\n",
    "A0=500 #g\n",
    "c1=5 #g/l\n",
    "\n",
    "# expreso la ecuacion\n",
    "\n",
    "f = c1*v1-v2*A(t)/(v0+(v1-v2)*t)\n",
    "\n",
    "b=Eq(A(t).diff(t), f)\n",
    "b"
   ]
  },
  {
   "cell_type": "code",
   "execution_count": 3,
   "metadata": {},
   "outputs": [
    {
     "data": {
      "image/png": "[encoded data removed]",
      "text/latex": [
       "$$e^{\\frac{8 t}{v_{0}}}$$"
      ],
      "text/plain": [
       " 8⋅t\n",
       " ───\n",
       "  v₀\n",
       "ℯ   "
      ]
     },
     "execution_count": 3,
     "metadata": {},
     "output_type": "execute_result"
    }
   ],
   "source": [
    "#Factor integrantes\n",
    "\n",
    "    \n",
    "p=v2/(v0+(v1-v2)*t)\n",
    "g=integrate(p,t)\n",
    "if v1<v2:\n",
    "    h=g.subs(2*t-v0,-(2*t-25)) # cambia el valor ya que me parece que hay un error en el programa\n",
    "    j=E**h\n",
    "if v1>=v2:\n",
    "    j=E**g\n",
    "j"
   ]
  },
  {
   "cell_type": "code",
   "execution_count": 4,
   "metadata": {
    "scrolled": true
   },
   "outputs": [
    {
     "data": {
      "image/png": "[encoded data removed]",
      "text/latex": [
       "$$\\operatorname{A }{\\left (t \\right )} = \\left(k + 5 v_{0} e^{\\frac{8 t}{v_{0}}}\\right) e^{- \\frac{8 t}{v_{0}}}$$"
      ],
      "text/plain": [
       "        ⎛          8⋅t⎞  -8⋅t \n",
       "        ⎜          ───⎟  ─────\n",
       "        ⎜           v₀⎟    v₀ \n",
       "A (t) = ⎝k + 5⋅v₀⋅ℯ   ⎠⋅ℯ     "
      ]
     },
     "execution_count": 4,
     "metadata": {},
     "output_type": "execute_result"
    }
   ],
   "source": [
    "e=(c1*v1*integrate(j,t)+k)/j\n",
    "g=Eq(A(t),e)\n",
    "g"
   ]
  },
  {
   "cell_type": "code",
   "execution_count": 5,
   "metadata": {},
   "outputs": [
    {
     "data": {
      "image/png": "[encoded data removed]",
      "text/latex": [
       "$$500 = k + 5 v_{0}$$"
      ],
      "text/plain": [
       "500 = k + 5⋅v₀"
      ]
     },
     "execution_count": 5,
     "metadata": {},
     "output_type": "execute_result"
    }
   ],
   "source": [
    "p=g.subs([(A(t),500),(t,0)])\n",
    "p"
   ]
  },
  {
   "cell_type": "code",
   "execution_count": 6,
   "metadata": {},
   "outputs": [
    {
     "data": {
      "image/png": "[encoded data removed]",
      "text/latex": [
       "$$- 5 v_{0} + 500$$"
      ],
      "text/plain": [
       "-5⋅v₀ + 500"
      ]
     },
     "execution_count": 6,
     "metadata": {},
     "output_type": "execute_result"
    }
   ],
   "source": [
    "z=solve(p,k)\n",
    "z=z[0]\n",
    "z"
   ]
  },
  {
   "cell_type": "code",
   "execution_count": 7,
   "metadata": {},
   "outputs": [
    {
     "data": {
      "image/png": "[encoded data removed]",
      "text/latex": [
       "$$\\operatorname{A }{\\left (t \\right )} = \\left(5 v_{0} e^{\\frac{8 t}{v_{0}}} - 5 v_{0} + 500\\right) e^{- \\frac{8 t}{v_{0}}}$$"
      ],
      "text/plain": [
       "        ⎛      8⋅t             ⎞  -8⋅t \n",
       "        ⎜      ───             ⎟  ─────\n",
       "        ⎜       v₀             ⎟    v₀ \n",
       "A (t) = ⎝5⋅v₀⋅ℯ    - 5⋅v₀ + 500⎠⋅ℯ     "
      ]
     },
     "execution_count": 7,
     "metadata": {},
     "output_type": "execute_result"
    }
   ],
   "source": [
    "n=g.subs(k,z)\n",
    "n"
   ]
  },
  {
   "cell_type": "code",
   "execution_count": 8,
   "metadata": {},
   "outputs": [
    {
     "data": {
      "image/png": "[encoded data removed]",
      "text/latex": [
       "$$\\operatorname{A }{\\left (11.3 \\right )} = \\left(5 v_{0} e^{\\frac{90.4}{v_{0}}} - 5 v_{0} + 500\\right) e^{- \\frac{90.4}{v_{0}}}$$"
      ],
      "text/plain": [
       "           ⎛      90.4             ⎞  -90.4 \n",
       "           ⎜      ────             ⎟  ──────\n",
       "           ⎜       v₀              ⎟    v₀  \n",
       "A (11.3) = ⎝5⋅v₀⋅ℯ     - 5⋅v₀ + 500⎠⋅ℯ      "
      ]
     },
     "execution_count": 8,
     "metadata": {},
     "output_type": "execute_result"
    }
   ],
   "source": [
    "m=n.subs(t,11.3)\n",
    "m"
   ]
  },
  {
   "cell_type": "code",
   "execution_count": null,
   "metadata": {
    "collapsed": true
   },
   "outputs": [],
   "source": []
  },
  {
   "cell_type": "code",
   "execution_count": null,
   "metadata": {
    "collapsed": true
   },
   "outputs": [],
   "source": []
  }
 ],
 "metadata": {
  "kernelspec": {
   "display_name": "Python 3",
   "language": "python",
   "name": "python3"
  },
  "language_info": {
   "codemirror_mode": {
    "name": "ipython",
    "version": 3
   },
   "file_extension": ".py",
   "mimetype": "text/x-python",
   "name": "python",
   "nbconvert_exporter": "python",
   "pygments_lexer": "ipython3",
   "version": "3.6.1"
  }
 },
 "nbformat": 4,
 "nbformat_minor": 2
}
