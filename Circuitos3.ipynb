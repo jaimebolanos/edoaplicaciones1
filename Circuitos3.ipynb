{
 "cells": [
  {
   "cell_type": "markdown",
   "metadata": {},
   "source": [
    "\n",
    "# APLICACIONES DE LA ECUACIONES \n",
    "# DIFERENCIALES  con PYTHON\n",
    "## Primer Orden\n",
    "## UNIVERSIDAD LIBRE\n",
    "### _Jaime Bolaños Gallo_"
   ]
  },
  {
   "cell_type": "markdown",
   "metadata": {},
   "source": [
    "<p style=\"text-align: center;\"> <span style=\"color:red\">CIRCUITOS ELÉCTRICOS</span></p>\n",
    "\n",
    "<p style=\"text-align: justify;\"> <span style=\"color:green\">Problema 3</span></p>\n",
    " \n",
    "La expresión que modela la carga para un circuito $RC$ es:\n",
    "\n",
    "$$q=\\left ( \\frac{5}{26}sen(t)-\\frac{25}{26 }cos(t)\\right )+C~e^{0.2t}$$\n",
    "\n",
    "\n",
    "halle el valor de la constante C si la carga inicial en el condensador es de 10 coulombios, es decir, $q(t=0)=10$\n",
    "\n",
    "<p style=\"text-align: justify;\"> <span style=\"color:blue\">Solución:</span></p>\n",
    "\n"
   ]
  },
  {
   "cell_type": "code",
   "execution_count": 3,
   "metadata": {},
   "outputs": [
    {
     "data": {
      "image/png": "[encoded data removed]",
      "text/latex": [
       "$$q{\\left (t \\right )} = C e^{\\frac{t}{5}} + \\frac{5}{26} \\sin{\\left (t \\right )} - \\frac{25}{26} \\cos{\\left (t \\right )}$$"
      ],
      "text/plain": [
       "          t                       \n",
       "          ─                       \n",
       "          5   5⋅sin(t)   25⋅cos(t)\n",
       "q(t) = C⋅ℯ  + ──────── - ─────────\n",
       "                 26          26   "
      ]
     },
     "execution_count": 3,
     "metadata": {},
     "output_type": "execute_result"
    }
   ],
   "source": [
    "from sympy import *\n",
    "from sympy import symbols \n",
    "from sympy import Function \n",
    "t,C,q=symbols('t C q') \n",
    "q=Function('q')\n",
    "from sympy import init_printing \n",
    "init_printing()\n",
    "#Creamos una expresión simbólica para la espresión dada\n",
    "str_expr = \"5/26*sin(t)-25/26*cos(t)+C*exp(1/5*t)\" # De esta manera no aparecen decimales en la ecuación creada\n",
    "expr = sympify(str_expr) # Estudiar este efecto logrado\n",
    "#Ahora creamos la ecuación\n",
    "Eq(q(t),expr)\n"
   ]
  },
  {
   "cell_type": "code",
   "execution_count": 4,
   "metadata": {},
   "outputs": [
    {
     "data": {
      "image/png": "[encoded data removed]",
      "text/latex": [
       "$$C = \\frac{285}{26}$$"
      ],
      "text/plain": [
       "    285\n",
       "C = ───\n",
       "     26"
      ]
     },
     "execution_count": 4,
     "metadata": {},
     "output_type": "execute_result"
    }
   ],
   "source": [
    "#sustituimos t=0,q=10\n",
    "s=expr.subs(t,0)\n",
    "d=solve(s-10)\n",
    "Eq(C,d[0])\n",
    "# El valor de la constante será por tanto:"
   ]
  },
  {
   "cell_type": "code",
   "execution_count": 8,
   "metadata": {},
   "outputs": [
    {
     "data": {
      "image/png": "[encoded data removed]",
      "text/latex": [
       "$$q{\\left (t \\right )} = \\frac{283 e^{\\frac{t}{5}}}{26} + \\frac{5}{26} \\sin{\\left (t \\right )} - \\frac{25}{26} \\cos{\\left (t \\right )}$$"
      ],
      "text/plain": [
       "            t                       \n",
       "            ─                       \n",
       "            5                       \n",
       "       283⋅e    5⋅sin(t)   25⋅cos(t)\n",
       "q(t) = ────── + ──────── - ─────────\n",
       "         26        26          26   "
      ]
     },
     "execution_count": 8,
     "metadata": {},
     "output_type": "execute_result"
    }
   ],
   "source": [
    "#Ahora reecribimos la ecuación con el valor de las constante C\n",
    "C=d[0]\n",
    "str_expr = \"5/26*sin(t)-25/26*cos(t)+(283/26)*e**(1/5*t)\" \n",
    "expr = sympify(str_expr) \n",
    "Eq(q(t),expr)"
   ]
  },
  {
   "cell_type": "markdown",
   "metadata": {},
   "source": [
    "<script>\n",
    "  $(document).ready(function(){\n",
    "    $('div.prompt').hide();\n",
    "    $('div.back-to-top').hide();\n",
    "    $('nav#menubar').hide();\n",
    "    $('.breadcrumb').hide();\n",
    "    $('.hidden-print').hide();\n",
    "  });\n",
    "</script>\n",
    "\n",
    "<footer id=\"attribution\" style=\"float:right; color:#999; background:#fff;\">\n",
    "UNIVERSIDAD LIBRE // Núcleo Común//\n",
    "\n",
    "Jaime Bolaños Gallo. Aplicaciones de las Ecuaciones Diferenciales Ordinarias.\n",
    "\n",
    "\n",
    "</footer>"
   ]
  },
  {
   "cell_type": "code",
   "execution_count": null,
   "metadata": {
    "collapsed": true
   },
   "outputs": [],
   "source": []
  }
 ],
 "metadata": {
  "kernelspec": {
   "display_name": "Python 3",
   "language": "python",
   "name": "python3"
  },
  "language_info": {
   "codemirror_mode": {
    "name": "ipython",
    "version": 3
   },
   "file_extension": ".py",
   "mimetype": "text/x-python",
   "name": "python",
   "nbconvert_exporter": "python",
   "pygments_lexer": "ipython3",
   "version": "3.5.2"
  }
 },
 "nbformat": 4,
 "nbformat_minor": 2
}
