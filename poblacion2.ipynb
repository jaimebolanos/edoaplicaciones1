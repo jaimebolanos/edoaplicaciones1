{
 "cells": [
  {
   "cell_type": "markdown",
   "metadata": {},
   "source": [
    "\n",
    "# APLICACIONES DE LA ECUACIONES \n",
    "# DIFERENCIALES  con PYTHON\n",
    "## Primer Orden\n",
    "## UNIVERSIDAD LIBRE\n",
    "### Jaime Bolaños Gallo"
   ]
  },
  {
   "cell_type": "markdown",
   "metadata": {},
   "source": [
    "<p style=\"text-align: center;\"> <span style=\"color:red\">POBLACIONES</span></p>\n",
    "\n",
    "<p style=\"text-align: justify;\"> <span style=\"color:green\">Problema 2</span></p>\n",
    " \n",
    "Calcular la vida media de una sustancia radioactiva que en 10 años decae un 25%\n",
    "\n"
   ]
  },
  {
   "cell_type": "markdown",
   "metadata": {},
   "source": [
    "<p style=\"text-align: justify;\"> <span style=\"color:blue\">Solución:</span></p>\n",
    "\n",
    "La solución fue tomada del documento http://canek.azc.uam.mx/Ecuaciones/Teoria/3.AplicacionesPrimerOrden/3.2.Decaimientoradioactivo/S0x/FD05.pdf, el cuál aparaece a continuación."
   ]
  },
  {
   "cell_type": "code",
   "execution_count": 2,
   "metadata": {
    "scrolled": true
   },
   "outputs": [
    {
     "data": {
      "text/html": [
       "<iframe src=pdf/vidamedia.pdf width=900 height=500></iframe>"
      ],
      "text/plain": [
       "<IPython.core.display.HTML object>"
      ]
     },
     "execution_count": 2,
     "metadata": {},
     "output_type": "execute_result"
    }
   ],
   "source": [
    "from IPython.display import HTML\n",
    "HTML('<iframe src=pdf/vidamedia.pdf width=900 height=500></iframe>')\n",
    "\n"
   ]
  },
  {
   "cell_type": "markdown",
   "metadata": {},
   "source": [
    "\n",
    "<script>\n",
    "  $(document).ready(function(){\n",
    "    $('div.prompt').hide();\n",
    "    $('div.back-to-top').hide();\n",
    "    $('nav#menubar').hide();\n",
    "    $('.breadcrumb').hide();\n",
    "    $('.hidden-print').hide();\n",
    "  });\n",
    "</script>\n",
    "\n",
    "<footer id=\"attribution\" style=\"float:right; color:#999; background:#fff;\">\n",
    "UNIVERSIDAD LIBRE // Núcleo Común//\n",
    "\n",
    "Jaime Bolaños Gallo. Aplicaciones de las Ecuaciones Diferenciales Ordinarias.\n",
    "\n",
    "\n",
    "</footer>"
   ]
  }
 ],
 "metadata": {
  "kernelspec": {
   "display_name": "Python 3",
   "language": "python",
   "name": "python3"
  },
  "language_info": {
   "codemirror_mode": {
    "name": "ipython",
    "version": 3
   },
   "file_extension": ".py",
   "mimetype": "text/x-python",
   "name": "python",
   "nbconvert_exporter": "python",
   "pygments_lexer": "ipython3",
   "version": "3.6.1"
  }
 },
 "nbformat": 4,
 "nbformat_minor": 2
}
